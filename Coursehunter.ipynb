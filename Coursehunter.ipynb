{
  "nbformat": 4,
  "nbformat_minor": 0,
  "metadata": {
    "colab": {
      "name": "Coursehunter.ipynb",
      "provenance": [],
      "collapsed_sections": [
        "XoHu9HIvF-TC"
      ],
      "include_colab_link": true
    },
    "kernelspec": {
      "name": "python3",
      "display_name": "Python 3"
    }
  },
  "cells": [
    {
      "cell_type": "markdown",
      "metadata": {
        "id": "view-in-github",
        "colab_type": "text"
      },
      "source": [
        "<a href=\"https://colab.research.google.com/github/mmuncan1980/Algorithmic-Trading-Plugins/blob/master/Coursehunter.ipynb\" target=\"_parent\"><img src=\"https://colab.research.google.com/assets/colab-badge.svg\" alt=\"Open In Colab\"/></a>"
      ]
    },
    {
      "cell_type": "markdown",
      "metadata": {
        "id": "R1JOPqP39kHm"
      },
      "source": [
        "<br ><center><img src='https://www.iconsdb.com/icons/preview/red/warning-xxl.png' height=\"30\" alt=\"netdata\" sytle=\"padding-right:10px\"/></center>\n",
        "\n",
        "- [x] Import your URL list in `data` variable.\n",
        "- [x] Import your gdrive folder id in `folderid` variable. If you leave, this script auto make a folder id then auto use. But this script does not save this id so every time you run it will be making a new one.\n",
        "- [x] Free course only."
      ]
    },
    {
      "cell_type": "code",
      "metadata": {
        "id": "v05imFM7U5qs",
        "cellView": "both"
      },
      "source": [
        "#Telegram: Contact https://t.me/biplob_sd\n",
        "\n",
        "#--------------------------------------------------------------------------------------------------------------------------------------------#\n",
        "#--------------------------------------------------------------------------------------------------------------------------------------------#\n",
        "#--------------------------------------------------------------------------------------------------------------------------------------------#\n",
        "#CREATE THE batch file\n",
        "# import your url list\n",
        "data = r\"\"\"\n",
        "\n",
        "https://coursehunter.net/course/react-redux-professionalnaya-razrabotka\n",
        "https://coursehunter.net/course/prakticheskiy-javascript\n",
        "\n",
        "\"\"\".split(\"\\n\")\n",
        "\n",
        "#Google Drive folder id that auto sync data\n",
        "#folder id is a string, So use ' ' this\n",
        "folderid = None\n",
        "\n",
        "\n",
        "#--------------------------------------------------------------------------------------------------------------------------------------------#\n",
        "#--------------------------------------------------------------------------------------------------------------------------------------------#\n",
        "#--------------------------------------------------------------------------------------------------------------------------------------------#\n",
        "import sys, contextlib, subprocess, string, os, urllib.request, json, time, getpass; from IPython.display import clear_output\n",
        "\n",
        "#Downloading coursehunters.net downloader script\n",
        "if os.path.isfile(\"/content/chD/chD.py\") == False:\n",
        "  !pip install colorama\n",
        "  !sudo mkdir -p /content/chD /content/courseoutput\n",
        "  !sudo wget -c -nc -O /content/chD/chD.py https://raw.githubusercontent.com/ak545/get-coursehunters-net/master/get.coursehunters.net.py\n",
        "  !sudo chmod +x /content/chD/chD.py\n",
        "  clear_output(wait=True)\n",
        "\n",
        "#Google Drive CLI Client\n",
        "if os.path.isfile(\"/usr/local/bin/gdrive\") == False:\n",
        "  print(\"Google Drive Cli Client installing ...\")\n",
        "  !wget -q -c -nc https://github.com/gdrive-org/gdrive/releases/download/2.1.0/gdrive-linux-x64\n",
        "  !mv gdrive-linux-x64 /usr/local/bin/gdrive\n",
        "  !sudo chmod +x /usr/local/bin/gdrive\n",
        "  !rm -f /content/gdrive-linux-x64\n",
        "  print(\"Google drive client installed\")\n",
        "else:\n",
        "  !pkill gdrive\n",
        "\n",
        "configPath = r\"/content/batch.txt\"\n",
        "\n",
        "!gdrive about\n",
        "\n",
        "if folderid == None:\n",
        "  cut = None\n",
        "  folderid = str(subprocess.check_output(['gdrive','mkdir','courseoutput'],encoding='437'))\n",
        "  cut , folderid = folderid.rstrip().split('Directory ')\n",
        "  folderid , cut = folderid.rstrip().split(' created')\n",
        "  folderid = str(folderid.rstrip())\n",
        "  print(folderid)\n",
        "\n",
        "\n",
        "# SAVE THE CONFIG\n",
        "open(configPath, 'w').close()\n",
        "\n",
        "configFile = open(configPath, \"a+\")\n",
        "\n",
        "for line in data:\n",
        "  configFile.write(line + \"\\n\")\n",
        "  \n",
        "configFile.close()\n",
        "\n",
        "# Unix, Windows and old Macintosh end-of-line\n",
        "newlines = ['\\n', '\\r\\n', '\\r']\n",
        "def unbuffered(proc, stream='stdout'):\n",
        "    stream = getattr(proc, stream)\n",
        "    with contextlib.closing(stream):\n",
        "        while True:\n",
        "            out = []\n",
        "            last = stream.read(1)\n",
        "            # Don't loop forever\n",
        "            if last == '' and proc.poll() is not None:\n",
        "                break\n",
        "            while last not in newlines:\n",
        "                # Don't loop forever\n",
        "                if last == '' and proc.poll() is not None:\n",
        "                    break\n",
        "                out.append(last)\n",
        "                last = stream.read(1)\n",
        "            out = ''.join(out)\n",
        "            yield out\n",
        "\n",
        "def gsync():\n",
        "    cmd = ['gdrive','sync','upload','/content/courseoutput',folderid]\n",
        "    proc = subprocess.Popen(\n",
        "        cmd,\n",
        "        stdout=subprocess.PIPE,\n",
        "        stderr=subprocess.STDOUT,\n",
        "        # Make all end-of-lines '\\n'\n",
        "        universal_newlines=True,\n",
        "    )\n",
        "    for line in unbuffered(proc):\n",
        "        print(line)\n",
        "            \n",
        "def example(Course_url):\n",
        "    cmd = ['python','/content/chD/chD.py','-nb','-u',Course_url,'-o','/content/courseoutput/']\n",
        "    proc = subprocess.Popen(\n",
        "        cmd,\n",
        "        stdout=subprocess.PIPE,\n",
        "        stderr=subprocess.STDOUT,\n",
        "        # Make all end-of-lines '\\n'\n",
        "        universal_newlines=True,\n",
        "    )\n",
        "    for line in unbuffered(proc):\n",
        "        print(line)\n",
        "\n",
        "handle = open('/content/batch.txt')\n",
        "count = 0\n",
        "for line in handle:\n",
        "    if not len(line.strip()) == 0 :\n",
        "      count += 1\n",
        "      example(line.rstrip())\n",
        "      gsync()\n",
        "      print(\"All done\")\n",
        "handle.close() "
      ],
      "execution_count": null,
      "outputs": []
    },
    {
      "cell_type": "markdown",
      "metadata": {
        "id": "XoHu9HIvF-TC"
      },
      "source": [
        "<img src=\"https://upload.wikimedia.org/wikipedia/commons/a/ad/Logo_of_Google_Drive.svg\" weight=\"100px\" height=\"40px\" />\n",
        "\n",
        "#Manually TRANSFER to Google drive"
      ]
    },
    {
      "cell_type": "code",
      "metadata": {
        "id": "C3gtq54nGKE7"
      },
      "source": [
        "#UPLOAD TO GOOGLE DRIVE\n",
        "#@markdown <br><center><img src='https://support.questetra.com/wp-content/uploads/2018/04/googledrive-simpleupload-fi-en.png' height=\"200\" alt=\"netdata\"/></center>\n",
        "#@markdown <center><h2>TRANSFERE NOW</h2></center><br>\n",
        "\n",
        "!gdrive upload --recursive /content/courseoutput/"
      ],
      "execution_count": null,
      "outputs": []
    }
  ]
}